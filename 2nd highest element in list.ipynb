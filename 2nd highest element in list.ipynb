{
 "cells": [
  {
   "cell_type": "code",
   "execution_count": 10,
   "metadata": {},
   "outputs": [
    {
     "name": "stdout",
     "output_type": "stream",
     "text": [
      "Second highest element is :  6\n"
     ]
    }
   ],
   "source": [
    "# This is the program to find the second highest element in the list\n",
    "\n",
    "lst = [9,5,-8,3,6,-7]\n",
    "size = lst.__len__()\n",
    "fst = lst[0]\n",
    "snd = lst[1]\n",
    "\n",
    "if fst < snd:\n",
    "    temp = snd\n",
    "    snd= fst\n",
    "    fst= temp\n",
    "\n",
    "for i in range(2,size):\n",
    "    if lst[i]>fst:\n",
    "        snd = fst\n",
    "        fst = lst[i]\n",
    "    elif lst[i] < fst and lst[i] > snd:\n",
    "            snd = lst[i]\n",
    "\n",
    "print(\"Second highest element is : \",snd)\n",
    "        \n",
    "    "
   ]
  }
 ],
 "metadata": {
  "kernelspec": {
   "display_name": "Python 3",
   "language": "python",
   "name": "python3"
  },
  "language_info": {
   "codemirror_mode": {
    "name": "ipython",
    "version": 3
   },
   "file_extension": ".py",
   "mimetype": "text/x-python",
   "name": "python",
   "nbconvert_exporter": "python",
   "pygments_lexer": "ipython3",
   "version": "3.8.3"
  }
 },
 "nbformat": 4,
 "nbformat_minor": 4
}
