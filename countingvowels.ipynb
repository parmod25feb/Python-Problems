{
 "cells": [
  {
   "cell_type": "code",
   "execution_count": 3,
   "metadata": {},
   "outputs": [
    {
     "name": "stdout",
     "output_type": "stream",
     "text": [
      "{'a': 2, 'e': 5, 'i': 0, 'o': 6, 'u': 1}\n"
     ]
    }
   ],
   "source": [
    "# Program to count the number of each vowels\n",
    "\n",
    "# string of vowels\n",
    "vowels = 'aeiou'\n",
    "\n",
    "mystr = 'Hello, welcome To the World of Python language.'\n",
    "\n",
    "# convert the string to lower case\n",
    "mystr = mystr.lower()\n",
    "\n",
    "# make a dictionary with each vowel a key and value 0\n",
    "dic = {}.fromkeys(vowels,0)\n",
    "\n",
    "# count the vowels and update the dictionary\n",
    "for char in mystr:\n",
    "    if char in dic:\n",
    "        dic[char] += 1\n",
    "\n",
    "print(dic)"
   ]
  }
 ],
 "metadata": {
  "kernelspec": {
   "display_name": "Python 3",
   "language": "python",
   "name": "python3"
  },
  "language_info": {
   "codemirror_mode": {
    "name": "ipython",
    "version": 3
   },
   "file_extension": ".py",
   "mimetype": "text/x-python",
   "name": "python",
   "nbconvert_exporter": "python",
   "pygments_lexer": "ipython3",
   "version": "3.8.3"
  }
 },
 "nbformat": 4,
 "nbformat_minor": 4
}
