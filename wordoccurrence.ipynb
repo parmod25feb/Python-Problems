{
 "cells": [
  {
   "cell_type": "code",
   "execution_count": 3,
   "metadata": {},
   "outputs": [
    {
     "name": "stdout",
     "output_type": "stream",
     "text": [
      "{'a': 2, 'e': 5, 'i': 0, 'o': 6, 'u': 1}\n"
     ]
    }
   ],
   "source": [
    "# Program to count the number of each vowels\n",
    "\n",
    "# string of vowels\n",
    "vowels = 'aeiou'\n",
    "\n",
    "mystr = 'Hello, welcome To the World of Python language.'\n",
    "\n",
    "# convert the string to lower case\n",
    "mystr = mystr.lower()\n",
    "\n",
    "# make a dictionary with each vowel a key and value 0\n",
    "dic = {}.fromkeys(vowels,0)\n",
    "\n",
    "# count the vowels and update the dictionary\n",
    "for char in mystr:\n",
    "    if char in dic:\n",
    "        dic[char] += 1\n",
    "\n",
    "print(dic)"
   ]
  },
  {
   "cell_type": "code",
   "execution_count": 34,
   "metadata": {},
   "outputs": [
    {
     "name": "stdout",
     "output_type": "stream",
     "text": [
      "{[]{()}} - Balanced\n",
      "(((}) - Unbalanced\n"
     ]
    }
   ],
   "source": [
    "# Python3 code to Check for \n",
    "# balanced parentheses in an expression \n",
    "open_list = [\"[\",\"{\",\"(\"] \n",
    "close_list = [\"]\",\"}\",\")\"] \n",
    "\n",
    "# Function to check parentheses \n",
    "def check(myStr): \n",
    "    stack = [] \n",
    "    for i in myStr: \n",
    "        if i in open_list: \n",
    "            stack.append(i) \n",
    "        elif i in close_list: \n",
    "            pos = close_list.index(i) \n",
    "          #  print(\"pos - \",pos)\n",
    "           # print(stack)\n",
    "           # print(\"close_Pos - \",close_list[pos],\"open_Pos - \",open_list[pos],\"Stack -\",stack[len(stack)-1] )\n",
    "            if ((len(stack) > 0) and (open_list[pos] == stack[len(stack)-1])): \n",
    "                stack.pop() \n",
    "               # print(\"Stack - \",stack)\n",
    "            else: \n",
    "                return \"Unbalanced\"\n",
    "    if len(stack) == 0: \n",
    "        return \"Balanced\"\n",
    "    else: \n",
    "        return \"Unbalanced\"\n",
    "\n",
    "\n",
    "# Driver code \n",
    "string = \"{[]{()}}\"\n",
    "print(string,\"-\", check(string)) \n",
    "\n",
    "string = \"(((})\"\n",
    "print(string,\"-\",check(string)) \n"
   ]
  },
  {
   "cell_type": "code",
   "execution_count": 25,
   "metadata": {},
   "outputs": [
    {
     "name": "stdout",
     "output_type": "stream",
     "text": [
      "co2l"
     ]
    }
   ],
   "source": [
    "# This program is to write the string - COOL as co2l\n",
    "\n",
    "mystr = \"cool\"\n",
    "\n",
    "dic = {}\n",
    "\n",
    "for ch in mystr:\n",
    "    if ch in dic:\n",
    "        dic[ch]+=1\n",
    "    else:\n",
    "        dic[ch]=1\n",
    "        \n",
    "for ch in dic:\n",
    "    if dic[ch] > 1:\n",
    "        print(\"%c%d\"%(ch,dic[ch]),end='')\n",
    "    else:\n",
    "        print(ch,end='')"
   ]
  },
  {
   "cell_type": "code",
   "execution_count": 33,
   "metadata": {},
   "outputs": [
    {
     "name": "stdout",
     "output_type": "stream",
     "text": [
      "cool occurred - 2 times\n",
      "yahoo occurred - 2 times\n",
      "google occurred - 3 times\n",
      "parmod occurred - 1 times\n"
     ]
    }
   ],
   "source": [
    "# This program is to count the occurrence of each words in the string\n",
    "\n",
    "mystr = \"cool COOL yahoo yahoo GOOGLE google GooGle parmod\"\n",
    "mystr = mystr.lower()   # converting the string to lower\n",
    "lst = mystr.split(\" \")\n",
    "dic = {}\n",
    "\n",
    "for w in lst:\n",
    "    if w in dic:\n",
    "        dic[w]+=1\n",
    "    else:\n",
    "        dic[w]=1\n",
    "        \n",
    "for w in dic:\n",
    "    print(\"%s occurred - %d times\"%(w,dic[w]))\n"
   ]
  }
 ],
 "metadata": {
  "kernelspec": {
   "display_name": "Python 3",
   "language": "python",
   "name": "python3"
  },
  "language_info": {
   "codemirror_mode": {
    "name": "ipython",
    "version": 3
   },
   "file_extension": ".py",
   "mimetype": "text/x-python",
   "name": "python",
   "nbconvert_exporter": "python",
   "pygments_lexer": "ipython3",
   "version": "3.8.3"
  }
 },
 "nbformat": 4,
 "nbformat_minor": 4
}
