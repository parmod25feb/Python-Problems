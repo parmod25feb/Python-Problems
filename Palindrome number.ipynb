{
 "cells": [
  {
   "cell_type": "code",
   "execution_count": 5,
   "metadata": {},
   "outputs": [
    {
     "name": "stdout",
     "output_type": "stream",
     "text": [
      "enter your choice12321\n",
      "Yahoo! number 12321 is palindrome\n"
     ]
    }
   ],
   "source": [
    "# This program is to verify whether the user input is Palindrome or not\n",
    "\n",
    "num = int(input(\"enter your choice\"))\n",
    "\n",
    "num1=num\n",
    "rem=rev=0\n",
    "while num1 !=0:\n",
    "    rem = num1%10\n",
    "    rev = rev*10+rem\n",
    "    num1//=10\n",
    "\n",
    "if num == rev:\n",
    "    print(\"Yahoo! number %d is palindrome\"%num)\n",
    "else:\n",
    "    print(\"Sorry! number %d is not palindrome\"%num)\n",
    "    "
   ]
  }
 ],
 "metadata": {
  "kernelspec": {
   "display_name": "Python 3",
   "language": "python",
   "name": "python3"
  },
  "language_info": {
   "codemirror_mode": {
    "name": "ipython",
    "version": 3
   },
   "file_extension": ".py",
   "mimetype": "text/x-python",
   "name": "python",
   "nbconvert_exporter": "python",
   "pygments_lexer": "ipython3",
   "version": "3.8.3"
  }
 },
 "nbformat": 4,
 "nbformat_minor": 4
}
