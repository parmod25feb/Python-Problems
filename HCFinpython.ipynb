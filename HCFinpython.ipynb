{
 "cells": [
  {
   "cell_type": "code",
   "execution_count": 6,
   "metadata": {},
   "outputs": [
    {
     "name": "stdout",
     "output_type": "stream",
     "text": [
      "Heighest common factor is :  7\n"
     ]
    }
   ],
   "source": [
    "# This program is to find the HCF of two number\n",
    "\n",
    "x,y = 56,21\n",
    "\n",
    "def hcf_fun(x,y):\n",
    "    if x < y:\n",
    "        smaller = x\n",
    "    else:\n",
    "        smaller = y\n",
    "    for i in range(1,smaller+1):\n",
    "        if (x%i == 0) and (y%i == 0):\n",
    "            hcf = i\n",
    "    return hcf\n",
    "\n",
    "res = hcf_fun(x,y)\n",
    "print(\"Heighest common factor is : \",res)"
   ]
  }
 ],
 "metadata": {
  "kernelspec": {
   "display_name": "Python 3",
   "language": "python",
   "name": "python3"
  },
  "language_info": {
   "codemirror_mode": {
    "name": "ipython",
    "version": 3
   },
   "file_extension": ".py",
   "mimetype": "text/x-python",
   "name": "python",
   "nbconvert_exporter": "python",
   "pygments_lexer": "ipython3",
   "version": "3.8.3"
  }
 },
 "nbformat": 4,
 "nbformat_minor": 4
}
