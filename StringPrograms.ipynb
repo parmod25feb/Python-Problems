{
 "cells": [
  {
   "cell_type": "code",
   "execution_count": 59,
   "metadata": {},
   "outputs": [
    {
     "name": "stdout",
     "output_type": "stream",
     "text": [
      "Enter a string : Welcome to Python\n",
      "emocleW ot nohtyP "
     ]
    }
   ],
   "source": [
    "# Program to reverse each words in the string\n",
    "\n",
    "st1 = input(\"Enter a string : \")\n",
    "#st1 = \"Hello Parmod Kumar\"\n",
    "lst=st1.split(\" \")                           # Creating a list of user string\n",
    "#print(lst)\n",
    "for item in lst:                             # Running a loop for each list item \n",
    "    for i in range(item.__len__()-1,-1,-1):  # Running a loop for each words in reverse and printing the word\n",
    "        print(item[i],end='')\n",
    "    print(\" \",end='')"
   ]
  },
  {
   "cell_type": "code",
   "execution_count": 60,
   "metadata": {
    "scrolled": true
   },
   "outputs": [
    {
     "name": "stdout",
     "output_type": "stream",
     "text": [
      "Strings are anagram\n"
     ]
    }
   ],
   "source": [
    "# This program is to check whether 2 strings are anagram or not  (An anagram of a string is another string that contains the same characters, only the order of characters can be different. For example, “abcd” and “dabc” are an anagram of each other.)\n",
    "\n",
    "st1 = \"TOOL\"\n",
    "st2 = \"LOOt\"\n",
    "if st1.__len__() != st2.__len__():           # Check if the string lengths if they are equal\n",
    "    print(\"Strings are not anagram.\")\n",
    "else:\n",
    "    lst1 = list(st1.lower())                 # First converting a stirng in lower case and then in alist\n",
    "    lst2 = list(st2.lower())                 # First converting a stirng in lower case and then in alist\n",
    "    #print(lst1, lst2)\n",
    "    lst1.sort()                              # Sorting the list1\n",
    "    lst2.sort()                              # Sorting the list2\n",
    "    #print(lst1, lst2)\n",
    "    if lst1  == lst2:                        # Compare if the lists are equal then they are anagram else not\n",
    "        print(\"Strings are anagram\")\n",
    "    else:\n",
    "        print(\"Sorry! Strings are not anagram\")\n"
   ]
  },
  {
   "cell_type": "code",
   "execution_count": 61,
   "metadata": {},
   "outputs": [
    {
     "name": "stdout",
     "output_type": "stream",
     "text": [
      "Numbers before swapping are : a =  -5  and b =  0\n",
      "Numbers after swapping are : a =  0  and b =  -5\n"
     ]
    }
   ],
   "source": [
    "# Program to swap two numbers without using 3rd variable\n",
    "\n",
    "a,b = -5,0\n",
    "print(\"Numbers before swapping are : a = \",a,\" and b = \",b)\n",
    "a = a+b\n",
    "b = a-b\n",
    "a = a-b\n",
    "print(\"Numbers after swapping are : a = \",a,\" and b = \",b)"
   ]
  },
  {
   "cell_type": "code",
   "execution_count": 66,
   "metadata": {},
   "outputs": [
    {
     "name": "stdout",
     "output_type": "stream",
     "text": [
      "Enter the number : 50\n",
      "  0  1  1  2  3  5  8  13  21  34"
     ]
    }
   ],
   "source": [
    "# This Program is for the Fibonacci series\n",
    "\n",
    "a,b,c=0,0,1\n",
    "\n",
    "num = int(input(\"Enter the number : \"))\n",
    "while b < num:\n",
    "    a=b\n",
    "    b=c\n",
    "    c=a+b\n",
    "    print(\" \",a,end='')\n",
    "\n",
    "\n",
    "\n"
   ]
  }
 ],
 "metadata": {
  "kernelspec": {
   "display_name": "Python 3",
   "language": "python",
   "name": "python3"
  },
  "language_info": {
   "codemirror_mode": {
    "name": "ipython",
    "version": 3
   },
   "file_extension": ".py",
   "mimetype": "text/x-python",
   "name": "python",
   "nbconvert_exporter": "python",
   "pygments_lexer": "ipython3",
   "version": "3.8.3"
  }
 },
 "nbformat": 4,
 "nbformat_minor": 4
}
