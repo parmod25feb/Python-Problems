{
 "cells": [
  {
   "cell_type": "code",
   "execution_count": 19,
   "metadata": {},
   "outputs": [
    {
     "name": "stdout",
     "output_type": "stream",
     "text": [
      "pls enter the number : 153\n",
      "number 153 is armstong\n"
     ]
    }
   ],
   "source": [
    "# This program is to check if a user provided number is Armstrong nubmer or not\n",
    "\n",
    "num = int(input(\"pls enter the number : \"))\n",
    "num1=num\n",
    "rem=total=0\n",
    "while num1 !=0 :\n",
    "    rem = num1%10\n",
    "    #print(\"rem : \",rem)\n",
    "    total = total + rem**3\n",
    "    #print(\"total : \",total)\n",
    "    num1= num1//10\n",
    "    #print(\"num1 : \",num1)\n",
    "\n",
    "if num ==total:\n",
    "    print(\"number %d is armstong\"%(num))\n",
    "else:\n",
    "    print(\"number %d is not armstrong\"%(num))"
   ]
  },
  {
   "cell_type": "code",
   "execution_count": 22,
   "metadata": {},
   "outputs": [
    {
     "name": "stdout",
     "output_type": "stream",
     "text": [
      "0\n",
      "1\n",
      "153\n",
      "370\n",
      "371\n",
      "407\n"
     ]
    }
   ],
   "source": [
    "# Program to print all the armstrong numbers < 1000\n",
    "\n",
    "for n in range(0,1000):\n",
    "    num1 = n\n",
    "    rem = total =0\n",
    "    while(num1 !=0) :\n",
    "        rem = num1%10\n",
    "        total = total + rem**3\n",
    "        num1 = num1//10\n",
    "    if n == total:\n",
    "        print(n)\n",
    "    else:\n",
    "        pass\n"
   ]
  },
  {
   "cell_type": "code",
   "execution_count": 68,
   "metadata": {},
   "outputs": [
    {
     "name": "stdout",
     "output_type": "stream",
     "text": [
      "{'welcome', 'parmod', 'hello'}\n",
      "welcome occurres 1 times\n",
      "parmod occurres 3 times\n",
      "hello occurres 2 times\n"
     ]
    }
   ],
   "source": [
    "# This program is to count the occurrence of the words in the string\n",
    "\n",
    "st = \"Hello parmod welcome parmod PARMOD hello\"\n",
    "st = st.lower()\n",
    "lst = list(st.split(\" \"))\n",
    "\n",
    "#lst = [\"parmod\",\"ok\",\"parmod\",\"ok\", \"kumar\",\"parmod\"]\n",
    "lst1 = set(lst)\n",
    "print(lst1)\n",
    "for li in lst1:\n",
    "    print(\"%s occurres %d times\"%(li,lst.count(li)))"
   ]
  },
  {
   "cell_type": "code",
   "execution_count": 86,
   "metadata": {},
   "outputs": [
    {
     "name": "stdout",
     "output_type": "stream",
     "text": [
      "hello\n",
      "5\n"
     ]
    }
   ],
   "source": [
    "# This is the progam to convert a list of charachers into the string\n",
    "\n",
    "lst = ['h','e','l','l','o']\n",
    "st = ''.join(lst)\n",
    "print(st)\n",
    "print(lst.__len__())"
   ]
  },
  {
   "cell_type": "code",
   "execution_count": 103,
   "metadata": {},
   "outputs": [
    {
     "name": "stdout",
     "output_type": "stream",
     "text": [
      "pls enter the number :5\n",
      "factorial of 5 is : 120\n"
     ]
    }
   ],
   "source": [
    "# This program is to find the factorial of a number\n",
    "\n",
    "num =  int(input(\"pls enter the number :\"))\n",
    "\n",
    "def factorial_func(n):\n",
    "    if n ==0 or n == 1:\n",
    "        return 1\n",
    "    else:\n",
    "        return(n*factorial_func(n-1))\n",
    "        \n",
    "if num < 0:\n",
    "    print(\"please enter the value greater than 0\")    \n",
    "else:\n",
    "    res = factorial_func(num)\n",
    "    print(\"factorial of %d is : %d\"%(num,res))"
   ]
  },
  {
   "cell_type": "code",
   "execution_count": 124,
   "metadata": {},
   "outputs": [
    {
     "name": "stdout",
     "output_type": "stream",
     "text": [
      "3\n",
      "[3, 2, 1, 6, 5, 4, 9, 8, 7]\n"
     ]
    }
   ],
   "source": [
    "# list reverse in chunks\n",
    "\n",
    "lst = [1,2,3,4,5,6,7,8,9]\n",
    "size = lst.__len__()\n",
    "csize = size//3\n",
    "print(csize)\n",
    "lst2=[]\n",
    "for i in range(csize):\n",
    "    start = 3*i\n",
    "    end = 3*(i+1)-1\n",
    "    for item in range(end,start-1,-1):\n",
    "        lst2.append(lst[item])\n",
    "        \n",
    "print(lst2)"
   ]
  },
  {
   "cell_type": "code",
   "execution_count": 91,
   "metadata": {},
   "outputs": [
    {
     "name": "stdout",
     "output_type": "stream",
     "text": [
      "[2, 5, 7, 8.5, 1]\n",
      "None\n",
      "[8.5, 7, 5, 2, 1]\n",
      "[8.5, 7, 5, 2, 1, 15]\n",
      "lst1 [8.5, 7, 5, 2, 1, 15]\n"
     ]
    }
   ],
   "source": [
    "# List functions\n",
    "\n",
    "lst = [2,5,7,8.5,1]\n",
    "print(lst)\n",
    "#dir(lst)\n",
    "lst2=lst.sort()\n",
    "print(lst2)\n",
    "lst.reverse()\n",
    "print(lst)\n",
    "lst.append(15)\n",
    "print(lst)\n",
    "lst1= lst.copy()\n",
    "print(\"lst1\",lst1)"
   ]
  },
  {
   "cell_type": "code",
   "execution_count": 27,
   "metadata": {},
   "outputs": [
    {
     "data": {
      "text/plain": [
       "['__add__',\n",
       " '__class__',\n",
       " '__contains__',\n",
       " '__delattr__',\n",
       " '__delitem__',\n",
       " '__dir__',\n",
       " '__doc__',\n",
       " '__eq__',\n",
       " '__format__',\n",
       " '__ge__',\n",
       " '__getattribute__',\n",
       " '__getitem__',\n",
       " '__gt__',\n",
       " '__hash__',\n",
       " '__iadd__',\n",
       " '__imul__',\n",
       " '__init__',\n",
       " '__init_subclass__',\n",
       " '__iter__',\n",
       " '__le__',\n",
       " '__len__',\n",
       " '__lt__',\n",
       " '__mul__',\n",
       " '__ne__',\n",
       " '__new__',\n",
       " '__reduce__',\n",
       " '__reduce_ex__',\n",
       " '__repr__',\n",
       " '__reversed__',\n",
       " '__rmul__',\n",
       " '__setattr__',\n",
       " '__setitem__',\n",
       " '__sizeof__',\n",
       " '__str__',\n",
       " '__subclasshook__',\n",
       " 'append',\n",
       " 'clear',\n",
       " 'copy',\n",
       " 'count',\n",
       " 'extend',\n",
       " 'index',\n",
       " 'insert',\n",
       " 'pop',\n",
       " 'remove',\n",
       " 'reverse',\n",
       " 'sort']"
      ]
     },
     "execution_count": 27,
     "metadata": {},
     "output_type": "execute_result"
    }
   ],
   "source": [
    "lst = [2,5,7,8,\"parmod\"]\n",
    "#print(lst)\n",
    "dir(lst)"
   ]
  }
 ],
 "metadata": {
  "kernelspec": {
   "display_name": "Python 3",
   "language": "python",
   "name": "python3"
  },
  "language_info": {
   "codemirror_mode": {
    "name": "ipython",
    "version": 3
   },
   "file_extension": ".py",
   "mimetype": "text/x-python",
   "name": "python",
   "nbconvert_exporter": "python",
   "pygments_lexer": "ipython3",
   "version": "3.8.3"
  }
 },
 "nbformat": 4,
 "nbformat_minor": 4
}
