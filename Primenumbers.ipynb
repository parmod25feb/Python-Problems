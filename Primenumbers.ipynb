{
 "cells": [
  {
   "cell_type": "code",
   "execution_count": 58,
   "metadata": {},
   "outputs": [
    {
     "name": "stdout",
     "output_type": "stream",
     "text": [
      "Number is Prime\n"
     ]
    }
   ],
   "source": [
    "#This program is to check whether the number is prime number or not\n",
    "#num = int(input(\"Enter your choice : \"))\n",
    "num = 17\n",
    "flag = True\n",
    "for i in range(2,num):\n",
    "    if num%i == 0:\n",
    "        flag = False\n",
    "        break;\n",
    "    else:\n",
    "        flag = True;\n",
    "\n",
    "if flag == True:\n",
    "    print(\"Number is Prime\")\n",
    "else:\n",
    "    print(\"Sorry! number is not Prime\")\n",
    "    "
   ]
  },
  {
   "cell_type": "code",
   "execution_count": 101,
   "metadata": {},
   "outputs": [
    {
     "name": "stdout",
     "output_type": "stream",
     "text": [
      "Enter your choice : 30\n",
      "Here is the list of Prime numbers : \n",
      "  3  5  7  11  13  17  19  23  29"
     ]
    }
   ],
   "source": [
    "#This program is to generate the range of Prime numbers\n",
    "size = int(input(\"Enter your choice : \"))\n",
    "\n",
    "print(\"Here is the list of Prime numbers : \")\n",
    "for num in range(1,size):\n",
    "    for i in range(2,num):\n",
    "        if num%i == 0 and i!=num-1: \n",
    "            break\n",
    "        elif i==num-1:\n",
    "            print(\" \",num,end='')\n",
    "\n",
    "                \n"
   ]
  },
  {
   "cell_type": "code",
   "execution_count": 107,
   "metadata": {},
   "outputs": [
    {
     "name": "stdout",
     "output_type": "stream",
     "text": [
      "ASCII value of z is 122\n"
     ]
    }
   ],
   "source": [
    "# Program to find the ASCII value of character \n",
    "\n",
    "c = 'z'\n",
    "print(\"ASCII value of %c is %d\"%(c,ord(c)))"
   ]
  },
  {
   "cell_type": "code",
   "execution_count": null,
   "metadata": {},
   "outputs": [],
   "source": []
  }
 ],
 "metadata": {
  "kernelspec": {
   "display_name": "Python 3",
   "language": "python",
   "name": "python3"
  },
  "language_info": {
   "codemirror_mode": {
    "name": "ipython",
    "version": 3
   },
   "file_extension": ".py",
   "mimetype": "text/x-python",
   "name": "python",
   "nbconvert_exporter": "python",
   "pygments_lexer": "ipython3",
   "version": "3.8.3"
  }
 },
 "nbformat": 4,
 "nbformat_minor": 4
}
